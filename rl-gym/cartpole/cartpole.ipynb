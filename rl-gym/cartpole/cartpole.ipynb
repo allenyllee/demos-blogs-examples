{
 "cells": [
  {
   "cell_type": "markdown",
   "metadata": {},
   "source": [
    "Sources:\n",
    "\n",
    "http://mckinziebrandon.me/TensorflowNotebooks/2016/12/21/openai.html\n",
    "http://nbviewer.jupyter.org/github/patrickmineault/xcorr-notebooks/blob/master/Render%20OpenAI%20gym%20as%20GIF.ipynb\n",
    "https://github.com/ceteke/RL/blob/master/Approximation/Linear%20Sarsa.ipynb"
   ]
  },
  {
   "cell_type": "markdown",
   "metadata": {},
   "source": [
    "## OpenAI Gym\n",
    "\n",
    "OpenAI's `gym` is a toolkit for developing and comparing reinforcement learning algorithms. Standardized datasets have prove pivotal in development of deep learning algorithms. Similarly, collection of test problems, environments, as provided by `gym` aids in evaluation of reinforcement learning algorithms when an agent learns to take actions in response to observations from environment to \"solve it\".\n",
    "\n",
    "This is what I will attempt in following, starting with the simplest of environments `CartPole-v0`.\n",
    "\n",
    "*From `CartPole-v0` [Wiki page](https://github.com/openai/gym/wiki/CartPole-v0):*\n",
    "\n",
    "#### Description\n",
    "A pole is attached by an un-actuated joint to a cart, which moves along a frictionless track. The pendulum starts upright, and the goal is to prevent it from falling over by increasing and reducing the cart's velocity.\n",
    "\n",
    "#### Observations\n",
    "\n",
    "Num | Observation | Min | Max\n",
    "---|---|---|---\n",
    "0 | Cart Position | -2.4 | 2.4\n",
    "1 | Cart Velocity | -Inf | Inf\n",
    "2 | Pole Angle | ~ -41.8&deg; | ~ 41.8&deg;\n",
    "3 | Pole Velocity At Tip | -Inf | Inf\n",
    "\n",
    "#### Actions\n",
    "\n",
    "Num | Action\n",
    "--- | ---\n",
    "0 | Push cart to the left\n",
    "1 | Push cart to the right\n",
    "\n",
    "\n",
    "#### Reward\n",
    "Reward is 1 for every step taken, including the termination step.\n",
    "\n",
    "#### Episode Termination\n",
    "1. Pole Angle is more than ±12°\n",
    "2. Cart Position is more than ±2.4 (center of the cart reaches the edge of the display)\n",
    "3. Episode length is greater than 200\n",
    "\n",
    "#### Solved Requirements\n",
    "Considered solved when the average reward is greater than or equal to 195.0 over 100 consecutive trials."
   ]
  },
  {
   "cell_type": "markdown",
   "metadata": {},
   "source": [
    "First let's take a look how the environment looks like:"
   ]
  },
  {
   "cell_type": "code",
   "execution_count": 1,
   "metadata": {},
   "outputs": [
    {
     "data": {
      "text/plain": [
       "'0.10.5'"
      ]
     },
     "execution_count": 1,
     "metadata": {},
     "output_type": "execute_result"
    }
   ],
   "source": [
    "%load_ext autoreload\n",
    "%autoreload 2\n",
    "import matplotlib\n",
    "# matplotlib.use(\"Agg\") # use noninteractive backend\n",
    "import matplotlib.pyplot as plt\n",
    "import matplotlib.animation as animation\n",
    "import gym\n",
    "import gym.spaces\n",
    "\n",
    "# plt.style.use('ggplot') # use \"ggplot\" style for graphs\n",
    "pltparams = {'legend.fontsize':14,'axes.labelsize':18,'axes.titlesize':18,\n",
    "             'xtick.labelsize':12,'ytick.labelsize':12,'figure.figsize':(7.5,7.5),}\n",
    "plt.rcParams.update(pltparams)\n",
    "# %matplotlib Agg\n",
    "\n",
    "gym.logger.set_level(40)\n",
    "gym.__version__"
   ]
  },
  {
   "cell_type": "code",
   "execution_count": 8,
   "metadata": {},
   "outputs": [
    {
     "name": "stdout",
     "output_type": "stream",
     "text": [
      "Episode 0 of 10 finished after 22 time steps.\n",
      "Episode 1 of 10 finished after 13 time steps.\n",
      "Episode 2 of 10 finished after 19 time steps.\n",
      "Episode 3 of 10 finished after 20 time steps.\n",
      "Episode 4 of 10 finished after 16 time steps.\n",
      "Episode 5 of 10 finished after 18 time steps.\n",
      "Episode 6 of 10 finished after 52 time steps.\n",
      "Episode 7 of 10 finished after 12 time steps.\n",
      "Episode 8 of 10 finished after 34 time steps.\n",
      "Episode 9 of 10 finished after 15 time steps.\n"
     ]
    }
   ],
   "source": [
    "env = gym.make('CartPole-v0')\n",
    "\n",
    "# Run a demo of the environment\n",
    "cum_reward = 0\n",
    "frames = []\n",
    "num_episodes = 10\n",
    "\n",
    "for ep in range(num_episodes):\n",
    "    observation = env.reset()\n",
    "    for t in range(500):\n",
    "        # Render into buffer. \n",
    "        frames.append(env.render(mode = 'rgb_array'))\n",
    "        action = env.action_space.sample() # Draw random action\n",
    "        # Run one timestep of the environment's dynamics\n",
    "        observation, reward, done, info = env.step(action)\n",
    "        if done:\n",
    "            print(\"Episode {} of {} finished after {} time steps.\"\\\n",
    "                  .format(ep, num_episodes, t+1))\n",
    "            break\n",
    "env.close()\n",
    "\n",
    "fig, ax = plt.subplots(1, 1)\n",
    "patch = plt.imshow(frames[0])\n",
    "plt.axis('off')\n",
    "\n",
    "def animate(i):\n",
    "    patch.set_data(frames[i])\n",
    "\n",
    "anim = animation.FuncAnimation(fig, animate, frames = len(frames), interval=5,\n",
    "                              blit = False, repeat = False)"
   ]
  },
  {
   "cell_type": "markdown",
   "metadata": {},
   "source": [
    "Next, try to solve it:\n",
    "\n",
    "**TODO: Provide theory for SARSA**\n",
    "- on policy\n",
    "- s,a,r,s,a\n",
    "- recommended for safe solutions\n",
    "\n",
    "https://github.com/vmayoral/basic_reinforcement_learning/blob/master/tutorial2/README.md\n",
    "\n",
    "As this is my first reinforcement learning project, I will take inspiration from  some successful implementations from cartpole leaderboard, e.g. [ceteke's](https://github.com/ceteke/RL/blob/master/Approximation/Linear%20Sarsa.ipynb)"
   ]
  },
  {
   "cell_type": "code",
   "execution_count": 2,
   "metadata": {},
   "outputs": [],
   "source": [
    "import autograd.numpy as np\n",
    "from autograd import grad, elementwise_grad\n",
    "import random\n",
    "\n",
    "# Linear approximation function to expected returns\n",
    "def approx(weights, observation, action):\n",
    "    return np.dot(observation, weights)[action]\n",
    "\n",
    "\n",
    "def policy(env, weights, observation, epsilon):\n",
    "    actions = [0, 1]\n",
    "    if np.random.rand() < epsilon:\n",
    "        return random.choice(actions)\n",
    "    \n",
    "    qs = []\n",
    "    for action in actions:\n",
    "        qs.append(approx(weights, observation, action))\n",
    "    return np.argmax(qs)\n",
    "\n",
    "dapprox = grad(approx)\n",
    "discount = 1.0 # Discount rate\n",
    "epsilon = 0.2 # Exploration rate\n",
    "alpha = 0.1 # Step size for gradient descent\n",
    "w = np.zeros((4,2)) # Initalize weigths \n",
    "num_episodes = 1000 # Number of games for the agent to play\n",
    "max_steps = 200"
   ]
  },
  {
   "cell_type": "code",
   "execution_count": 10,
   "metadata": {},
   "outputs": [],
   "source": [
    "import os\n",
    "import tempfile\n",
    "import subprocess\n",
    "anim_path = \"./monitor\"\n",
    "if not os.path.isdir(anim_path): os.makedirs(anim_path)\n",
    "    \n",
    "def save_frames(frames, anim_path):\n",
    "    temp_dir = tempfile.mkdtemp(dir = anim_path)\n",
    "    for i, frame in enumerate(frames[-200:]):\n",
    "        plt.imsave(*(\"{}/{}.png\".format(temp_dir, i), frame),\n",
    "                        **{\"vmin\":0, \"vmax\":255})\n",
    "    subprocess.run(\"ffmpeg -y -f image2 -i {0}/%d.png {0}/video.avi\".format(temp_dir),\n",
    "                        shell = True)\n",
    "    subprocess.run(\"ffmpeg -y -i {}/video.avi -r 9 {}/anim.gif\".format(temp_dir, anim_path),\n",
    "                        shell = True)\n",
    "    \n",
    "    os.rmdir(temp_dir)\n",
    "        "
   ]
  },
  {
   "cell_type": "code",
   "execution_count": 3,
   "metadata": {},
   "outputs": [
    {
     "name": "stdout",
     "output_type": "stream",
     "text": [
      "Episode 100/1000 finished. Mean reward over last 100 episodes: 148.12\n",
      "Episodes before solve 69\n"
     ]
    }
   ],
   "source": [
    "env = gym.make('CartPole-v0')\n",
    "episode_rewards = []\n",
    "for ep in range(num_episodes):\n",
    "    state = env.reset()\n",
    "    rewards = []\n",
    "    for _ in range(max_steps):\n",
    "        # Take smart action based on defined policy\n",
    "        action = policy(env, w, state, epsilon)\n",
    "        \n",
    "        q_hat = approx(w, state, action)\n",
    "        q_hat_grad = dapprox(w, state, action)\n",
    "        next_state, reward, done, _ = env.step(action)\n",
    "        rewards.append(reward)\n",
    "        # Render into buffer. \n",
    "        # env.render()\n",
    "        # visframe = env.render(mode = 'rgb_array')\n",
    "        # frames.append(visframe)\n",
    "        if done:\n",
    "            w += alpha*(reward - q_hat) * q_hat_grad\n",
    "            break\n",
    "        else:\n",
    "            # Update weights to maximize for reward\n",
    "            next_action = policy(env, w, next_state, epsilon)\n",
    "            q_hat_next = approx(w, next_state, next_action)\n",
    "            w += alpha*(reward - discount*q_hat_next)*q_hat_grad\n",
    "            state = next_state\n",
    "    # Exploration / Explotation Tradeoff\n",
    "    # as we learn more about the game, become more certain in making decision\n",
    "    if ep == 100:\n",
    "        epsilon /= 2\n",
    "        \n",
    "    episode_rewards.append(np.sum(rewards))\n",
    "    mean_reward=np.mean(episode_rewards[max(ep-100, 0):ep+1])\n",
    "    \n",
    "    # Report on progress - did we solve the task already?\n",
    "    if mean_reward >= 195.0 and ep >= 100:\n",
    "        print(\"Episodes before solve {}\".format(ep-100+1))\n",
    "        # save_frames(frames, anim_path)\n",
    "        break\n",
    "    if ((ep % 100) == 0) and ep > 0:\n",
    "        print(\"Episode {}/{} finished. Mean reward over last 100 episodes: {:.2f}\"\\\n",
    "              .format(ep, num_episodes, (mean_reward)))\n",
    "env.close()"
   ]
  },
  {
   "cell_type": "code",
   "execution_count": 4,
   "metadata": {},
   "outputs": [
    {
     "data": {
      "image/png": "[encoded data removed]",
      "text/plain": [
       "<Figure size 432x288 with 1 Axes>"
      ]
     },
     "metadata": {},
     "output_type": "display_data"
    }
   ],
   "source": [
    "plt.plot(episode_rewards)\n",
    "plt.xlabel(\"Episode\")\n",
    "plt.ylabel(\"Reward\")\n",
    "plt.show()"
   ]
  },
  {
   "cell_type": "code",
   "execution_count": 5,
   "metadata": {},
   "outputs": [],
   "source": [
    "?plt.plot"
   ]
  },
  {
   "cell_type": "markdown",
   "metadata": {},
   "source": [
    "If lucky, can solve the challenge already after 50 episodes (which is #2 on the leaderboard!)."
   ]
  },
  {
   "cell_type": "code",
   "execution_count": null,
   "metadata": {
    "collapsed": true
   },
   "outputs": [],
   "source": [
    "# fig, ax = plt.subplots(1, 1)\n",
    "# patch = plt.imshow(frames[0])\n",
    "# plt.axis('off')\n",
    "\n",
    "# def animate(i):\n",
    "#     patch.set_data(frames[i])\n",
    "\n",
    "# anim = animation.FuncAnimation(fig, animate, frames = len(frames), interval=5,\n",
    "#                               blit = False, repeat = False)"
   ]
  },
  {
   "cell_type": "markdown",
   "metadata": {},
   "source": [
    "We have already solved the problem, but I wonder how will a neural network perform.\n",
    "\n",
    "**TODO:**\n",
    "- Q-learning introduction (off-policy)\n",
    "- briefly about the model (what does it do, can be replaced by some linear function)\n",
    "- prioretized experience replay\n",
    "\n",
    "https://github.com/vmayoral/basic_reinforcement_learning/blob/master/tutorial5/README.md\n",
    "\n",
    "Inspiration from [here](https://gist.github.com/mbalunovic/fb7392e2c09b2c3895a354c3ad36497e#file-cartpole_q_network-py) and [here](https://github.com/facebookresearch/BlueWhale/blob/da1209deacaebdc7ef01daf06719cf1a03e0f5a4/ml/rl/test/gym/discrete_qlearn_softmax_cartpole_v0.json)\n",
    "\n",
    "[Good introduction](https://keon.io/deep-q-learning/)"
   ]
  },
  {
   "cell_type": "code",
   "execution_count": 1,
   "metadata": {},
   "outputs": [
    {
     "name": "stderr",
     "output_type": "stream",
     "text": [
      "/home/mholub/miniconda3/envs/dl36/lib/python3.6/site-packages/h5py/__init__.py:36: FutureWarning: Conversion of the second argument of issubdtype from `float` to `np.floating` is deprecated. In future, it will be treated as `np.float64 == np.dtype(float).type`.\n",
      "  from ._conv import register_converters as _register_converters\n",
      "Using TensorFlow backend.\n"
     ]
    },
    {
     "name": "stdout",
     "output_type": "stream",
     "text": [
      "Tensorflow version: 1.8.0\n",
      "Keras version: 2.1.5\n",
      "Keras config: \n",
      "\n"
     ]
    },
    {
     "data": {
      "text/plain": [
       "{'floatx': 'float32',\n",
       " 'epsilon': 1e-07,\n",
       " 'backend': 'tensorflow',\n",
       " 'image_data_format': 'channels_last'}"
      ]
     },
     "execution_count": 1,
     "metadata": {},
     "output_type": "execute_result"
    }
   ],
   "source": [
    "%load_ext autoreload\n",
    "%autoreload 2\n",
    "\n",
    "import cartpole\n",
    "\n",
    "from keras import __version__ as K_ver\n",
    "from keras.backend import _config as K_cf\n",
    "from tensorflow import __version__ as tf_ver\n",
    "print(\"Tensorflow version: {}\".format(tf_ver))\n",
    "print(\"Keras version: {}\".format(K_ver))\n",
    "print(\"Keras config: \\n\")\n",
    "K_cf"
   ]
  },
  {
   "cell_type": "code",
   "execution_count": 2,
   "metadata": {},
   "outputs": [
    {
     "name": "stdout",
     "output_type": "stream",
     "text": [
      "_________________________________________________________________\n",
      "Layer (type)                 Output Shape              Param #   \n",
      "=================================================================\n",
      "dense_1 (Dense)              (None, 16)                80        \n",
      "_________________________________________________________________\n",
      "activation_1 (Activation)    (None, 16)                0         \n",
      "_________________________________________________________________\n",
      "dense_2 (Dense)              (None, 16)                272       \n",
      "_________________________________________________________________\n",
      "activation_2 (Activation)    (None, 16)                0         \n",
      "_________________________________________________________________\n",
      "dense_3 (Dense)              (None, 2)                 34        \n",
      "=================================================================\n",
      "Total params: 386\n",
      "Trainable params: 386\n",
      "Non-trainable params: 0\n",
      "_________________________________________________________________\n",
      "2018-07-10 23:00:44,845:cartpole:INFO: None\n",
      "2018-07-10 23:00:44,849:cartpole:INFO: Starting `cartpole` game.\n",
      "2018-07-10 23:00:44,850:cartpole:INFO: Environment parameters: \n",
      "{'env_id': 'CartPole-v0', 'action_size': 2, 'state_size': 4, 'discount': 0.99, 'epsilon': 1.0, 'eps_decay_rate': 0.99, 'eps_min': 0.1, 'num_episodes': 500, 'max_steps': 200, 'reward_solve': 195, 'n_epochs_solve': 100}\n",
      "2018-07-10 23:00:44,850:cartpole:INFO: Model parameters: \n",
      "{'learn_rate': 0.001, 'replay_size': 64, 'max_memory': 20000, 'num_epochs': 1, 'hidden_size': 16}\n",
      "> /home/mholub/git/demos-blogs-examples/rl-gym/cartpole/cartpole.py(180)replay()\n",
      "-> self.model.fit( state, q_target, epochs = self.mp.num_epochs,\n",
      "(Pdb) state\n",
      "array([[ 0.00127035, -0.03094226, -0.03114556,  0.03965378]])\n",
      "(Pdb) q_target\n",
      "array([[-0.01653457,  1.0340936 ]], dtype=float32)\n",
      "(Pdb) target\n",
      "1.0340936228260398\n",
      "(Pdb) reward\n",
      "1.0\n",
      "(Pdb) q_next\n",
      "array([[ 0.034438  , -0.04974242]], dtype=float32)\n",
      "(Pdb) error\n",
      "1.0431455865129828\n",
      "(Pdb) targets_old\n",
      "*** NameError: name 'targets_old' is not defined\n",
      "(Pdb) target_old\n",
      "-0.009051964\n",
      "(Pdb) q_next\n",
      "array([[ 0.034438  , -0.04974242]], dtype=float32)\n",
      "(Pdb) np.amax(q_next)\n",
      "0.034438003\n",
      "(Pdb) q\n"
     ]
    },
    {
     "ename": "BdbQuit",
     "evalue": "",
     "output_type": "error",
     "traceback": [
      "\u001b[0;31m---------------------------------------------------------------------------\u001b[0m",
      "\u001b[0;31mBdbQuit\u001b[0m                                   Traceback (most recent call last)",
      "\u001b[0;32m<ipython-input-2-d9a8089c1a93>\u001b[0m in \u001b[0;36m<module>\u001b[0;34m()\u001b[0m\n\u001b[1;32m     12\u001b[0m \u001b[0msolver\u001b[0m \u001b[0;34m=\u001b[0m \u001b[0mcartpole\u001b[0m\u001b[0;34m.\u001b[0m\u001b[0mcartPoleSolver\u001b[0m\u001b[0;34m(\u001b[0m\u001b[0magent\u001b[0m\u001b[0;34m,\u001b[0m \u001b[0mverbose\u001b[0m \u001b[0;34m=\u001b[0m \u001b[0;32mTrue\u001b[0m\u001b[0;34m)\u001b[0m\u001b[0;34m\u001b[0m\u001b[0m\n\u001b[1;32m     13\u001b[0m \u001b[0;31m# Attempt solving the environemnt\u001b[0m\u001b[0;34m\u001b[0m\u001b[0;34m\u001b[0m\u001b[0m\n\u001b[0;32m---> 14\u001b[0;31m \u001b[0msolver\u001b[0m\u001b[0;34m.\u001b[0m\u001b[0mmain\u001b[0m\u001b[0;34m(\u001b[0m\u001b[0;34m)\u001b[0m\u001b[0;34m\u001b[0m\u001b[0m\n\u001b[0m",
      "\u001b[0;32m~/git/demos-blogs-examples/rl-gym/cartpole/cartpole.py\u001b[0m in \u001b[0;36mmain\u001b[0;34m(self)\u001b[0m\n\u001b[1;32m    309\u001b[0m         \u001b[0mdo_anim\u001b[0m \u001b[0;34m=\u001b[0m \u001b[0;32mFalse\u001b[0m\u001b[0;34m\u001b[0m\u001b[0m\n\u001b[1;32m    310\u001b[0m         \u001b[0;32mtry\u001b[0m\u001b[0;34m:\u001b[0m\u001b[0;34m\u001b[0m\u001b[0m\n\u001b[0;32m--> 311\u001b[0;31m             \u001b[0mself\u001b[0m\u001b[0;34m.\u001b[0m\u001b[0mtrain\u001b[0m\u001b[0;34m(\u001b[0m\u001b[0mdo_anim\u001b[0m\u001b[0;34m)\u001b[0m\u001b[0;34m\u001b[0m\u001b[0m\n\u001b[0m\u001b[1;32m    312\u001b[0m             \u001b[0mself\u001b[0m\u001b[0;34m.\u001b[0m\u001b[0mplot_\u001b[0m\u001b[0;34m(\u001b[0m\u001b[0;34m)\u001b[0m\u001b[0;34m\u001b[0m\u001b[0m\n\u001b[1;32m    313\u001b[0m             \u001b[0;32mif\u001b[0m \u001b[0mdo_anim\u001b[0m\u001b[0;34m:\u001b[0m\u001b[0;34m\u001b[0m\u001b[0m\n",
      "\u001b[0;32m~/git/demos-blogs-examples/rl-gym/cartpole/cartpole.py\u001b[0m in \u001b[0;36mtrain\u001b[0;34m(self, do_plot)\u001b[0m\n\u001b[1;32m    241\u001b[0m             \u001b[0;31m# Here the training frequency is once per epoch only\u001b[0m\u001b[0;34m\u001b[0m\u001b[0;34m\u001b[0m\u001b[0m\n\u001b[1;32m    242\u001b[0m             \u001b[0;31m# if self.agent.memory.tree.n_entries >= self.mp.replay_size:\u001b[0m\u001b[0;34m\u001b[0m\u001b[0;34m\u001b[0m\u001b[0m\n\u001b[0;32m--> 243\u001b[0;31m             \u001b[0mself\u001b[0m\u001b[0;34m.\u001b[0m\u001b[0magent\u001b[0m\u001b[0;34m.\u001b[0m\u001b[0mreplay\u001b[0m\u001b[0;34m(\u001b[0m\u001b[0;34m)\u001b[0m\u001b[0;34m\u001b[0m\u001b[0m\n\u001b[0m\u001b[1;32m    244\u001b[0m \u001b[0;34m\u001b[0m\u001b[0m\n\u001b[1;32m    245\u001b[0m             \u001b[0mepisode_rewards\u001b[0m\u001b[0;34m.\u001b[0m\u001b[0mappend\u001b[0m\u001b[0;34m(\u001b[0m\u001b[0mnp\u001b[0m\u001b[0;34m.\u001b[0m\u001b[0msum\u001b[0m\u001b[0;34m(\u001b[0m\u001b[0mrewards\u001b[0m\u001b[0;34m)\u001b[0m\u001b[0;34m)\u001b[0m\u001b[0;34m\u001b[0m\u001b[0m\n",
      "\u001b[0;32m~/git/demos-blogs-examples/rl-gym/cartpole/cartpole.py\u001b[0m in \u001b[0;36mreplay\u001b[0;34m(self)\u001b[0m\n\u001b[1;32m    178\u001b[0m             \u001b[0;32mimport\u001b[0m \u001b[0mpdb\u001b[0m\u001b[0;34m;\u001b[0m \u001b[0mpdb\u001b[0m\u001b[0;34m.\u001b[0m\u001b[0mset_trace\u001b[0m\u001b[0;34m(\u001b[0m\u001b[0;34m)\u001b[0m\u001b[0;34m\u001b[0m\u001b[0m\n\u001b[1;32m    179\u001b[0m             \u001b[0;31m# state is x, q_target is y\u001b[0m\u001b[0;34m\u001b[0m\u001b[0;34m\u001b[0m\u001b[0m\n\u001b[0;32m--> 180\u001b[0;31m             self.model.fit( state, q_target, epochs = self.mp.num_epochs,\n\u001b[0m\u001b[1;32m    181\u001b[0m                             batch_size = 1, verbose = 0, sample_weight=[is_weights[[j]]])\n\u001b[1;32m    182\u001b[0m                         \u001b[0;31m# batch_size = self.mp.replay_size\u001b[0m\u001b[0;34m\u001b[0m\u001b[0;34m\u001b[0m\u001b[0m\n",
      "\u001b[0;32m~/git/demos-blogs-examples/rl-gym/cartpole/cartpole.py\u001b[0m in \u001b[0;36mreplay\u001b[0;34m(self)\u001b[0m\n\u001b[1;32m    178\u001b[0m             \u001b[0;32mimport\u001b[0m \u001b[0mpdb\u001b[0m\u001b[0;34m;\u001b[0m \u001b[0mpdb\u001b[0m\u001b[0;34m.\u001b[0m\u001b[0mset_trace\u001b[0m\u001b[0;34m(\u001b[0m\u001b[0;34m)\u001b[0m\u001b[0;34m\u001b[0m\u001b[0m\n\u001b[1;32m    179\u001b[0m             \u001b[0;31m# state is x, q_target is y\u001b[0m\u001b[0;34m\u001b[0m\u001b[0;34m\u001b[0m\u001b[0m\n\u001b[0;32m--> 180\u001b[0;31m             self.model.fit( state, q_target, epochs = self.mp.num_epochs,\n\u001b[0m\u001b[1;32m    181\u001b[0m                             batch_size = 1, verbose = 0, sample_weight=[is_weights[[j]]])\n\u001b[1;32m    182\u001b[0m                         \u001b[0;31m# batch_size = self.mp.replay_size\u001b[0m\u001b[0;34m\u001b[0m\u001b[0;34m\u001b[0m\u001b[0m\n",
      "\u001b[0;32m~/miniconda3/envs/dl36/lib/python3.6/bdb.py\u001b[0m in \u001b[0;36mtrace_dispatch\u001b[0;34m(self, frame, event, arg)\u001b[0m\n\u001b[1;32m     49\u001b[0m             \u001b[0;32mreturn\u001b[0m \u001b[0;31m# None\u001b[0m\u001b[0;34m\u001b[0m\u001b[0m\n\u001b[1;32m     50\u001b[0m         \u001b[0;32mif\u001b[0m \u001b[0mevent\u001b[0m \u001b[0;34m==\u001b[0m \u001b[0;34m'line'\u001b[0m\u001b[0;34m:\u001b[0m\u001b[0;34m\u001b[0m\u001b[0m\n\u001b[0;32m---> 51\u001b[0;31m             \u001b[0;32mreturn\u001b[0m \u001b[0mself\u001b[0m\u001b[0;34m.\u001b[0m\u001b[0mdispatch_line\u001b[0m\u001b[0;34m(\u001b[0m\u001b[0mframe\u001b[0m\u001b[0;34m)\u001b[0m\u001b[0;34m\u001b[0m\u001b[0m\n\u001b[0m\u001b[1;32m     52\u001b[0m         \u001b[0;32mif\u001b[0m \u001b[0mevent\u001b[0m \u001b[0;34m==\u001b[0m \u001b[0;34m'call'\u001b[0m\u001b[0;34m:\u001b[0m\u001b[0;34m\u001b[0m\u001b[0m\n\u001b[1;32m     53\u001b[0m             \u001b[0;32mreturn\u001b[0m \u001b[0mself\u001b[0m\u001b[0;34m.\u001b[0m\u001b[0mdispatch_call\u001b[0m\u001b[0;34m(\u001b[0m\u001b[0mframe\u001b[0m\u001b[0;34m,\u001b[0m \u001b[0marg\u001b[0m\u001b[0;34m)\u001b[0m\u001b[0;34m\u001b[0m\u001b[0m\n",
      "\u001b[0;32m~/miniconda3/envs/dl36/lib/python3.6/bdb.py\u001b[0m in \u001b[0;36mdispatch_line\u001b[0;34m(self, frame)\u001b[0m\n\u001b[1;32m     68\u001b[0m         \u001b[0;32mif\u001b[0m \u001b[0mself\u001b[0m\u001b[0;34m.\u001b[0m\u001b[0mstop_here\u001b[0m\u001b[0;34m(\u001b[0m\u001b[0mframe\u001b[0m\u001b[0;34m)\u001b[0m \u001b[0;32mor\u001b[0m \u001b[0mself\u001b[0m\u001b[0;34m.\u001b[0m\u001b[0mbreak_here\u001b[0m\u001b[0;34m(\u001b[0m\u001b[0mframe\u001b[0m\u001b[0;34m)\u001b[0m\u001b[0;34m:\u001b[0m\u001b[0;34m\u001b[0m\u001b[0m\n\u001b[1;32m     69\u001b[0m             \u001b[0mself\u001b[0m\u001b[0;34m.\u001b[0m\u001b[0muser_line\u001b[0m\u001b[0;34m(\u001b[0m\u001b[0mframe\u001b[0m\u001b[0;34m)\u001b[0m\u001b[0;34m\u001b[0m\u001b[0m\n\u001b[0;32m---> 70\u001b[0;31m             \u001b[0;32mif\u001b[0m \u001b[0mself\u001b[0m\u001b[0;34m.\u001b[0m\u001b[0mquitting\u001b[0m\u001b[0;34m:\u001b[0m \u001b[0;32mraise\u001b[0m \u001b[0mBdbQuit\u001b[0m\u001b[0;34m\u001b[0m\u001b[0m\n\u001b[0m\u001b[1;32m     71\u001b[0m         \u001b[0;32mreturn\u001b[0m \u001b[0mself\u001b[0m\u001b[0;34m.\u001b[0m\u001b[0mtrace_dispatch\u001b[0m\u001b[0;34m\u001b[0m\u001b[0m\n\u001b[1;32m     72\u001b[0m \u001b[0;34m\u001b[0m\u001b[0m\n",
      "\u001b[0;31mBdbQuit\u001b[0m: "
     ]
    }
   ],
   "source": [
    "# Set up environment, build model\n",
    "env_params = cartpole.envParams(num_episodes = 500, discount = .99,\n",
    "                                epsilon = 1., eps_decay_rate = 0.99,\n",
    "                                eps_min = 0.1, max_steps = 200,\n",
    "                                env_id = \"CartPole-v0\")\n",
    "model_params = cartpole.modelParams(learn_rate = 0.001, num_epochs = 1,\n",
    "                                    replay_size = 64, max_memory = 20000,\n",
    "                                    hidden_size = 16)\n",
    "# Set up Deep Q-Learnibng Agent\n",
    "agent = cartpole.dqnAgent(model_params, env_params)\n",
    "# Make solver object\n",
    "solver = cartpole.cartPoleSolver(agent, verbose = True)\n",
    "# Attempt solving the environemnt\n",
    "solver.main()"
   ]
  },
  {
   "cell_type": "code",
   "execution_count": null,
   "metadata": {},
   "outputs": [],
   "source": []
  },
  {
   "cell_type": "code",
   "execution_count": null,
   "metadata": {},
   "outputs": [],
   "source": []
  },
  {
   "cell_type": "code",
   "execution_count": null,
   "metadata": {},
   "outputs": [],
   "source": []
  },
  {
   "cell_type": "code",
   "execution_count": null,
   "metadata": {},
   "outputs": [],
   "source": []
  },
  {
   "cell_type": "code",
   "execution_count": null,
   "metadata": {},
   "outputs": [],
   "source": []
  },
  {
   "cell_type": "code",
   "execution_count": null,
   "metadata": {},
   "outputs": [],
   "source": []
  },
  {
   "cell_type": "code",
   "execution_count": 2,
   "metadata": {},
   "outputs": [
    {
     "name": "stdout",
     "output_type": "stream",
     "text": [
      "_________________________________________________________________\n",
      "Layer (type)                 Output Shape              Param #   \n",
      "=================================================================\n",
      "dense_1 (Dense)              (None, 16)                80        \n",
      "_________________________________________________________________\n",
      "activation_1 (Activation)    (None, 16)                0         \n",
      "_________________________________________________________________\n",
      "dense_2 (Dense)              (None, 16)                272       \n",
      "_________________________________________________________________\n",
      "activation_2 (Activation)    (None, 16)                0         \n",
      "_________________________________________________________________\n",
      "dense_3 (Dense)              (None, 2)                 34        \n",
      "=================================================================\n",
      "Total params: 386\n",
      "Trainable params: 386\n",
      "Non-trainable params: 0\n",
      "_________________________________________________________________\n",
      "2018-05-21 13:58:28,676:cartpole:INFO: None\n",
      "2018-05-21 13:58:28,710:cartpole:INFO: Starting `cartpole` game.\n",
      "2018-05-21 13:58:28,725:cartpole:INFO: Environment parameters: \n",
      "{'env_id': 'CartPole-v0', 'action_size': 2, 'state_size': 4, 'discount': 1.0, 'epsilon': 0.2, 'eps_decay_rate': 0.99, 'eps_min': 0.001, 'num_episodes': 500, 'max_steps': 200, 'reward_solve': 195, 'n_epochs_solve': 100}\n",
      "2018-05-21 13:58:28,745:cartpole:INFO: Model parameters: \n",
      "{'learn_rate': 0.001, 'replay_size': 64, 'max_memory': 2000, 'num_epochs': 1, 'hidden_size': 16}\n",
      "Episode 100/500 finished. Mean reward over last 100 episodes: 28.68\n",
      "Episode 200/500 finished. Mean reward over last 100 episodes: 99.72\n",
      "Episode 300/500 finished. Mean reward over last 100 episodes: 138.82\n",
      "Episodes before solve 271\n"
     ]
    },
    {
     "data": {
      "text/plain": [
       "<matplotlib.figure.Figure at 0x1fecd61de80>"
      ]
     },
     "metadata": {},
     "output_type": "display_data"
    },
    {
     "data": {
      "image/png": "[encoded data removed]",
      "text/plain": [
       "<matplotlib.figure.Figure at 0x1fece8242e8>"
      ]
     },
     "metadata": {},
     "output_type": "display_data"
    },
    {
     "name": "stdout",
     "output_type": "stream",
     "text": [
      "2018-05-21 14:00:59,728:cartpole:INFO: Game finished.\n"
     ]
    }
   ],
   "source": [
    "# Set up environment, build model\n",
    "env_params = cartpole.envParams(num_episodes = 500, discount = 1.0,\n",
    "                                epsilon = 0.2, eps_decay_rate = 0.99,\n",
    "                                eps_min = 0.001, max_steps = 200,\n",
    "                                env_id = \"CartPole-v0\")\n",
    "model_params = cartpole.modelParams(learn_rate = 0.001, num_epochs = 1,\n",
    "                                    replay_size = 64, max_memory = 2000,\n",
    "                                    hidden_size = 16)\n",
    "# Set up Deep Q-Learnibng Agent\n",
    "agent = cartpole.dqnAgent(model_params, env_params)\n",
    "# Make solver object\n",
    "solver = cartpole.cartPoleSolver(agent, verbose = True)\n",
    "# Attempt solving the environemnt\n",
    "solver.main()"
   ]
  }
 ],
 "metadata": {
  "kernelspec": {
   "display_name": "Python 3",
   "language": "python",
   "name": "python3"
  },
  "language_info": {
   "codemirror_mode": {
    "name": "ipython",
    "version": 3
   },
   "file_extension": ".py",
   "mimetype": "text/x-python",
   "name": "python",
   "nbconvert_exporter": "python",
   "pygments_lexer": "ipython3",
   "version": "3.6.5"
  }
 },
 "nbformat": 4,
 "nbformat_minor": 2
}
