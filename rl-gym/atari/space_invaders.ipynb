{
 "cells": [
  {
   "cell_type": "markdown",
   "metadata": {},
   "source": [
    "# Deep Convolutional Q-Learning Network\n",
    "\n",
    "**TODO**: introduction"
   ]
  },
  {
   "cell_type": "code",
   "execution_count": 1,
   "metadata": {},
   "outputs": [
    {
     "data": {
      "text/plain": [
       "'0.10.5'"
      ]
     },
     "execution_count": 1,
     "metadata": {},
     "output_type": "execute_result"
    }
   ],
   "source": [
    "%load_ext autoreload\n",
    "%autoreload 2\n",
    "import matplotlib.pyplot as plt\n",
    "import matplotlib.animation as animation\n",
    "import gym\n",
    "import gym.spaces\n",
    "\n",
    "# plt.style.use('ggplot') # use \"ggplot\" style for graphs\n",
    "pltparams = {'legend.fontsize':14,'axes.labelsize':18,'axes.titlesize':18,\n",
    "             'xtick.labelsize':12,'ytick.labelsize':12,'figure.figsize':(7.5,7.5),}\n",
    "plt.rcParams.update(pltparams)\n",
    "%matplotlib nbagg\n",
    "\n",
    "gym.logger.set_level(40)\n",
    "gym.__version__"
   ]
  },
  {
   "cell_type": "code",
   "execution_count": 2,
   "metadata": {},
   "outputs": [
    {
     "name": "stderr",
     "output_type": "stream",
     "text": [
      "/home/mholub/miniconda3/envs/dl36/lib/python3.6/site-packages/h5py/__init__.py:36: FutureWarning: Conversion of the second argument of issubdtype from `float` to `np.floating` is deprecated. In future, it will be treated as `np.float64 == np.dtype(float).type`.\n",
      "  from ._conv import register_converters as _register_converters\n",
      "Using TensorFlow backend.\n"
     ]
    },
    {
     "name": "stdout",
     "output_type": "stream",
     "text": [
      "Tensorflow version: 1.8.0\n",
      "Keras version: 2.1.5\n",
      "Keras config: \n",
      "\n"
     ]
    },
    {
     "data": {
      "text/plain": [
       "{'floatx': 'float32',\n",
       " 'epsilon': 1e-07,\n",
       " 'backend': 'tensorflow',\n",
       " 'image_data_format': 'channels_last'}"
      ]
     },
     "execution_count": 2,
     "metadata": {},
     "output_type": "execute_result"
    }
   ],
   "source": [
    "from keras import __version__ as K_ver\n",
    "from keras.backend import _config as K_cf\n",
    "from tensorflow import __version__ as tf_ver\n",
    "print(\"Tensorflow version: {}\".format(tf_ver))\n",
    "print(\"Keras version: {}\".format(K_ver))\n",
    "print(\"Keras config: \\n\")\n",
    "K_cf"
   ]
  },
  {
   "cell_type": "code",
   "execution_count": 21,
   "metadata": {},
   "outputs": [],
   "source": [
    "from keras.models import load_model, Sequential, Model\n",
    "from keras.layers.convolutional import Convolution2D\n",
    "from keras.optimizers import Adam #Adagrad, RMSProp\n",
    "from keras.layers.core import Activation, Dropout, Flatten, Dense, Lambda\n",
    "from keras.layers import Input\n",
    "from keras.layers.normalization import BatchNormalization\n",
    "from keras import backend as K\n",
    "\n",
    "def mean_q(y_true, y_pred):\n",
    "    return K.mean(K.max(y_pred, axis=-1))\n",
    "\n",
    "\n",
    "model = Sequential()\n",
    "\n",
    "model.add(Convolution2D(filters = 32, kernel_size = (8, 8), strides = (4, 4),\n",
    "                        input_shape = (84,84,4)))\n",
    "model.add(BatchNormalization())\n",
    "model.add(Activation('relu'))\n",
    "model.add(Dropout(0.5))\n",
    "\n",
    "model.add(Convolution2D(filters = 64, kernel_size = (4, 4), strides = (2, 2)))\n",
    "model.add(BatchNormalization())\n",
    "model.add(Activation('relu'))\n",
    "model.add(Dropout(0.5))\n",
    "\n",
    "model.add(Convolution2D(filters = 64, kernel_size = (3, 3), strides = (1, 1)))\n",
    "model.add(BatchNormalization())\n",
    "model.add(Activation('relu'))\n",
    "model.add(Dropout(0.5))\n",
    "\n",
    "model.add(Flatten())\n",
    "flatten = model.layers[-1].output # get output of the flatten layer\n",
    "\n",
    "fc1 = Dense(units = 512, activation = None)(flatten)\n",
    "advantage = Dense(6, activation = None)(fc1)\n",
    "fc2 = Dense(units = 512, activation = None)(flatten)\n",
    "value = Dense(1)(fc2)\n",
    "\n",
    "# dueling_type == 'avg'\n",
    "# Q(s,a;theta) = V(s;theta) + (A(s,a;theta)-Avg_a(A(s,a;theta)))\n",
    "policy = Lambda(lambda x: x[0]-K.mean(x[0])+x[1],\n",
    "                output_shape = (6, ))([advantage, value])\n",
    "\n",
    "input_layer = model.input\n",
    "model = Model(inputs = [input_layer], outputs = [policy])\n",
    "model.compile( loss = [\"MSE\"], optimizer = Adam(lr = .001),\n",
    "                            metrics = [\"mae\", mean_q])"
   ]
  },
  {
   "cell_type": "code",
   "execution_count": 6,
   "metadata": {},
   "outputs": [
    {
     "name": "stdout",
     "output_type": "stream",
     "text": [
      "The actions are: ['NOOP', 'FIRE', 'RIGHT', 'LEFT', 'RIGHTFIRE', 'LEFTFIRE']\n"
     ]
    }
   ],
   "source": [
    "env = gym.make(\"SpaceInvaders-v0\")\n",
    "print(\"The actions are: {}\".format(env.unwrapped.get_action_meanings()))"
   ]
  },
  {
   "cell_type": "code",
   "execution_count": 29,
   "metadata": {},
   "outputs": [
    {
     "name": "stdout",
     "output_type": "stream",
     "text": [
      "The autoreload extension is already loaded. To reload it, use:\n",
      "  %reload_ext autoreload\n",
      "2018-06-07 21:53:19,124:space_invaders:INFO: There are 6 actions in the enviroment: ['NOOP', 'FIRE', 'RIGHT', 'LEFT', 'RIGHTFIRE', 'LEFTFIRE']\n",
      "__________________________________________________________________________________________________\n",
      "Layer (type)                    Output Shape         Param #     Connected to                     \n",
      "==================================================================================================\n",
      "conv2d_31_input (InputLayer)    (None, 84, 84, 4)    0                                            \n",
      "__________________________________________________________________________________________________\n",
      "conv2d_31 (Conv2D)              (None, 20, 20, 32)   8224        conv2d_31_input[0][0]            \n",
      "__________________________________________________________________________________________________\n",
      "batch_normalization_31 (BatchNo (None, 20, 20, 32)   128         conv2d_31[0][0]                  \n",
      "__________________________________________________________________________________________________\n",
      "activation_31 (Activation)      (None, 20, 20, 32)   0           batch_normalization_31[0][0]     \n",
      "__________________________________________________________________________________________________\n",
      "dropout_31 (Dropout)            (None, 20, 20, 32)   0           activation_31[0][0]              \n",
      "__________________________________________________________________________________________________\n",
      "conv2d_32 (Conv2D)              (None, 9, 9, 64)     32832       dropout_31[0][0]                 \n",
      "__________________________________________________________________________________________________\n",
      "batch_normalization_32 (BatchNo (None, 9, 9, 64)     256         conv2d_32[0][0]                  \n",
      "__________________________________________________________________________________________________\n",
      "activation_32 (Activation)      (None, 9, 9, 64)     0           batch_normalization_32[0][0]     \n",
      "__________________________________________________________________________________________________\n",
      "dropout_32 (Dropout)            (None, 9, 9, 64)     0           activation_32[0][0]              \n",
      "__________________________________________________________________________________________________\n",
      "conv2d_33 (Conv2D)              (None, 7, 7, 64)     36928       dropout_32[0][0]                 \n",
      "__________________________________________________________________________________________________\n",
      "batch_normalization_33 (BatchNo (None, 7, 7, 64)     256         conv2d_33[0][0]                  \n",
      "__________________________________________________________________________________________________\n",
      "activation_33 (Activation)      (None, 7, 7, 64)     0           batch_normalization_33[0][0]     \n",
      "__________________________________________________________________________________________________\n",
      "dropout_33 (Dropout)            (None, 7, 7, 64)     0           activation_33[0][0]              \n",
      "__________________________________________________________________________________________________\n",
      "flatten_11 (Flatten)            (None, 3136)         0           dropout_33[0][0]                 \n",
      "__________________________________________________________________________________________________\n",
      "dense_41 (Dense)                (None, 512)          1606144     flatten_11[0][0]                 \n",
      "__________________________________________________________________________________________________\n",
      "dense_43 (Dense)                (None, 512)          1606144     flatten_11[0][0]                 \n",
      "__________________________________________________________________________________________________\n",
      "dense_42 (Dense)                (None, 6)            3078        dense_41[0][0]                   \n",
      "__________________________________________________________________________________________________\n",
      "dense_44 (Dense)                (None, 1)            513         dense_43[0][0]                   \n",
      "__________________________________________________________________________________________________\n",
      "lambda_11 (Lambda)              (None, 6)            0           dense_42[0][0]                   \n",
      "                                                                 dense_44[0][0]                   \n",
      "==================================================================================================\n",
      "Total params: 3,294,503\n",
      "Trainable params: 3,294,183\n",
      "Non-trainable params: 320\n",
      "__________________________________________________________________________________________________\n",
      "None\n",
      "Successfully constructed networks.\n",
      "Succesfully loaded network.\n"
     ]
    }
   ],
   "source": [
    "%load_ext autoreload\n",
    "%autoreload 2\n",
    "from space_invaders import SpaceInvader\n",
    "\n",
    "game = SpaceInvader(mode = \"DQN\", max_memory = 10000,\n",
    "                    max_steps = 20000, min_steps_train = 100,\n",
    "                    num_episodes = 5, max_frames = 50000,\n",
    "                    num_kept_frames = 4, target_update_freq = 200, epsilon = 0)\n",
    "\n",
    "game.load_network(\"./server_results/spaceinvader_ep2000.h5\")"
   ]
  },
  {
   "cell_type": "code",
   "execution_count": 30,
   "metadata": {},
   "outputs": [
    {
     "name": "stdout",
     "output_type": "stream",
     "text": [
      "2018-06-07 21:53:26,197:space_invaders:INFO: Target model updated, frame: 196\n",
      "2018-06-07 21:53:27,224:space_invaders:INFO: Target model updated, frame: 396\n",
      "2018-06-07 21:53:28,236:space_invaders:INFO: Target model updated, frame: 596\n",
      "2018-06-07 21:53:29,238:space_invaders:INFO: Target model updated, frame: 796\n",
      "2018-06-07 21:53:31,497:space_invaders:INFO: Model trained, ep: 1\n",
      "2018-06-07 21:53:31,498:space_invaders:INFO: Episode 1/5 finished. Reward: 11.00, Frame # 832.\n",
      "2018-06-07 21:53:32,359:space_invaders:INFO: Target model updated, frame: 996\n",
      "2018-06-07 21:53:33,368:space_invaders:INFO: Target model updated, frame: 1196\n",
      "2018-06-07 21:53:34,428:space_invaders:INFO: Target model updated, frame: 1396\n",
      "2018-06-07 21:53:35,437:space_invaders:INFO: Target model updated, frame: 1596\n",
      "2018-06-07 21:53:36,252:space_invaders:INFO: Model trained, ep: 2\n",
      "2018-06-07 21:53:36,253:space_invaders:INFO: Episode 2/5 finished. Reward: 11.00, Frame # 1668.\n",
      "2018-06-07 21:53:36,923:space_invaders:INFO: Target model updated, frame: 1796\n",
      "2018-06-07 21:53:37,934:space_invaders:INFO: Target model updated, frame: 1996\n",
      "2018-06-07 21:53:39,036:space_invaders:INFO: Target model updated, frame: 2196\n",
      "2018-06-07 21:53:40,230:space_invaders:INFO: Model trained, ep: 3\n",
      "2018-06-07 21:53:40,231:space_invaders:INFO: Episode 3/5 finished. Reward: 0.00, Frame # 2348.\n",
      "2018-06-07 21:53:40,519:space_invaders:INFO: Target model updated, frame: 2396\n",
      "2018-06-07 21:53:41,636:space_invaders:INFO: Target model updated, frame: 2596\n",
      "2018-06-07 21:53:42,741:space_invaders:INFO: Target model updated, frame: 2796\n",
      "2018-06-07 21:53:43,754:space_invaders:INFO: Target model updated, frame: 2996\n",
      "2018-06-07 21:53:44,336:space_invaders:INFO: Model trained, ep: 4\n",
      "2018-06-07 21:53:44,337:space_invaders:INFO: Episode 4/5 finished. Reward: 0.00, Frame # 3024.\n",
      "2018-06-07 21:53:45,245:space_invaders:INFO: Target model updated, frame: 3196\n",
      "2018-06-07 21:53:46,352:space_invaders:INFO: Target model updated, frame: 3396\n",
      "2018-06-07 21:53:47,366:space_invaders:INFO: Target model updated, frame: 3596\n",
      "2018-06-07 21:53:48,296:space_invaders:INFO: Model trained, ep: 5\n",
      "2018-06-07 21:53:48,297:space_invaders:INFO: Episode 5/5 finished. Reward: 0.00, Frame # 3692.\n",
      "2018-06-07 21:53:48,298:space_invaders:INFO: Frame # 3692. End of Training.\n"
     ]
    }
   ],
   "source": [
    "game.main()"
   ]
  },
  {
   "cell_type": "code",
   "execution_count": 9,
   "metadata": {},
   "outputs": [],
   "source": [
    "import matplotlib.pyplot as plt\n",
    "import numpy as np\n",
    "with open(\"./server_results/q_vals.txt\", \"r\") as f:\n",
    "    q_vals = []\n",
    "    for line in f:\n",
    "        q_vals.append(float(line.rstrip()))"
   ]
  },
  {
   "cell_type": "code",
   "execution_count": 16,
   "metadata": {},
   "outputs": [
    {
     "data": {
      "text/plain": [
       "array([4.56199932e+00, 9.08481812e+05, 2.64657900e+06])"
      ]
     },
     "execution_count": 16,
     "metadata": {},
     "output_type": "execute_result"
    },
    {
     "data": {
      "image/png": "[encoded data removed]",
      "text/plain": [
       "<Figure size 432x288 with 1 Axes>"
      ]
     },
     "metadata": {},
     "output_type": "display_data"
    }
   ],
   "source": [
    "plt.hist(q_vals, 50)\n",
    "np.percentile(q_vals, (25,50,75))"
   ]
  },
  {
   "cell_type": "code",
   "execution_count": 17,
   "metadata": {},
   "outputs": [
    {
     "data": {
      "text/plain": [
       "[<matplotlib.lines.Line2D at 0x7f4c0dfd9160>]"
      ]
     },
     "execution_count": 17,
     "metadata": {},
     "output_type": "execute_result"
    },
    {
     "data": {
      "image/png": "[encoded data removed]",
      "text/plain": [
       "<Figure size 432x288 with 1 Axes>"
      ]
     },
     "metadata": {},
     "output_type": "display_data"
    }
   ],
   "source": [
    "plt.plot(q_vals)"
   ]
  },
  {
   "cell_type": "code",
   "execution_count": 7,
   "metadata": {},
   "outputs": [],
   "source": [
    "game.plot_()"
   ]
  },
  {
   "cell_type": "code",
   "execution_count": 6,
   "metadata": {},
   "outputs": [
    {
     "name": "stdout",
     "output_type": "stream",
     "text": [
      "Lived for 667 frames, total reward was 0.0\n"
     ]
    }
   ],
   "source": [
    "game.simulate_()"
   ]
  }
 ],
 "metadata": {
  "kernelspec": {
   "display_name": "Python 3",
   "language": "python",
   "name": "python3"
  },
  "language_info": {
   "codemirror_mode": {
    "name": "ipython",
    "version": 3
   },
   "file_extension": ".py",
   "mimetype": "text/x-python",
   "name": "python",
   "nbconvert_exporter": "python",
   "pygments_lexer": "ipython3",
   "version": "3.6.5"
  }
 },
 "nbformat": 4,
 "nbformat_minor": 2
}
