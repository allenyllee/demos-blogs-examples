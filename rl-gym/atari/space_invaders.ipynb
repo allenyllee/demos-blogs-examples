{
 "cells": [
  {
   "cell_type": "markdown",
   "metadata": {},
   "source": [
    "# Deep Convolutional Q-Learning Network\n",
    "\n",
    "**TODO**: introduction"
   ]
  },
  {
   "cell_type": "code",
   "execution_count": 1,
   "metadata": {},
   "outputs": [
    {
     "data": {
      "text/plain": [
       "'0.10.5'"
      ]
     },
     "execution_count": 1,
     "metadata": {},
     "output_type": "execute_result"
    }
   ],
   "source": [
    "%load_ext autoreload\n",
    "%autoreload 2\n",
    "import matplotlib.pyplot as plt\n",
    "import matplotlib.animation as animation\n",
    "import gym\n",
    "import gym.spaces\n",
    "\n",
    "# plt.style.use('ggplot') # use \"ggplot\" style for graphs\n",
    "pltparams = {'legend.fontsize':14,'axes.labelsize':18,'axes.titlesize':18,\n",
    "             'xtick.labelsize':12,'ytick.labelsize':12,'figure.figsize':(7.5,7.5),}\n",
    "plt.rcParams.update(pltparams)\n",
    "%matplotlib nbagg\n",
    "\n",
    "gym.logger.set_level(40)\n",
    "gym.__version__"
   ]
  },
  {
   "cell_type": "code",
   "execution_count": 2,
   "metadata": {},
   "outputs": [
    {
     "name": "stderr",
     "output_type": "stream",
     "text": [
      "/home/mholub/miniconda3/envs/dl36/lib/python3.6/site-packages/h5py/__init__.py:36: FutureWarning: Conversion of the second argument of issubdtype from `float` to `np.floating` is deprecated. In future, it will be treated as `np.float64 == np.dtype(float).type`.\n",
      "  from ._conv import register_converters as _register_converters\n",
      "Using TensorFlow backend.\n"
     ]
    },
    {
     "name": "stdout",
     "output_type": "stream",
     "text": [
      "Tensorflow version: 1.8.0\n",
      "Keras version: 2.1.5\n",
      "Keras config: \n",
      "\n"
     ]
    },
    {
     "data": {
      "text/plain": [
       "{'floatx': 'float32',\n",
       " 'epsilon': 1e-07,\n",
       " 'backend': 'tensorflow',\n",
       " 'image_data_format': 'channels_last'}"
      ]
     },
     "execution_count": 2,
     "metadata": {},
     "output_type": "execute_result"
    }
   ],
   "source": [
    "from keras import __version__ as K_ver\n",
    "from keras.backend import _config as K_cf\n",
    "from tensorflow import __version__ as tf_ver\n",
    "print(\"Tensorflow version: {}\".format(tf_ver))\n",
    "print(\"Keras version: {}\".format(K_ver))\n",
    "print(\"Keras config: \\n\")\n",
    "K_cf"
   ]
  },
  {
   "cell_type": "code",
   "execution_count": 21,
   "metadata": {},
   "outputs": [],
   "source": [
    "from keras.models import load_model, Sequential, Model\n",
    "from keras.layers.convolutional import Convolution2D\n",
    "from keras.optimizers import Adam #Adagrad, RMSProp\n",
    "from keras.layers.core import Activation, Dropout, Flatten, Dense, Lambda\n",
    "from keras.layers import Input\n",
    "from keras.layers.normalization import BatchNormalization\n",
    "from keras import backend as K\n",
    "\n",
    "def mean_q(y_true, y_pred):\n",
    "    return K.mean(K.max(y_pred, axis=-1))\n",
    "\n",
    "\n",
    "model = Sequential()\n",
    "\n",
    "model.add(Convolution2D(filters = 32, kernel_size = (8, 8), strides = (4, 4),\n",
    "                        input_shape = (84,84,4)))\n",
    "model.add(BatchNormalization())\n",
    "model.add(Activation('relu'))\n",
    "model.add(Dropout(0.5))\n",
    "\n",
    "model.add(Convolution2D(filters = 64, kernel_size = (4, 4), strides = (2, 2)))\n",
    "model.add(BatchNormalization())\n",
    "model.add(Activation('relu'))\n",
    "model.add(Dropout(0.5))\n",
    "\n",
    "model.add(Convolution2D(filters = 64, kernel_size = (3, 3), strides = (1, 1)))\n",
    "model.add(BatchNormalization())\n",
    "model.add(Activation('relu'))\n",
    "model.add(Dropout(0.5))\n",
    "\n",
    "model.add(Flatten())\n",
    "flatten = model.layers[-1].output # get output of the flatten layer\n",
    "\n",
    "fc1 = Dense(units = 512, activation = None)(flatten)\n",
    "advantage = Dense(6, activation = None)(fc1)\n",
    "fc2 = Dense(units = 512, activation = None)(flatten)\n",
    "value = Dense(1)(fc2)\n",
    "\n",
    "# dueling_type == 'avg'\n",
    "# Q(s,a;theta) = V(s;theta) + (A(s,a;theta)-Avg_a(A(s,a;theta)))\n",
    "policy = Lambda(lambda x: x[0]-K.mean(x[0])+x[1],\n",
    "                output_shape = (6, ))([advantage, value])\n",
    "\n",
    "input_layer = model.input\n",
    "model = Model(inputs = [input_layer], outputs = [policy])\n",
    "model.compile( loss = [\"MSE\"], optimizer = Adam(lr = .001),\n",
    "                            metrics = [\"mae\", mean_q])"
   ]
  },
  {
   "cell_type": "code",
   "execution_count": 6,
   "metadata": {},
   "outputs": [
    {
     "name": "stdout",
     "output_type": "stream",
     "text": [
      "The actions are: ['NOOP', 'FIRE', 'RIGHT', 'LEFT', 'RIGHTFIRE', 'LEFTFIRE']\n"
     ]
    }
   ],
   "source": [
    "env = gym.make(\"SpaceInvaders-v0\")\n",
    "print(\"The actions are: {}\".format(env.unwrapped.get_action_meanings()))"
   ]
  },
  {
   "cell_type": "code",
   "execution_count": 17,
   "metadata": {},
   "outputs": [
    {
     "name": "stdout",
     "output_type": "stream",
     "text": [
      "The autoreload extension is already loaded. To reload it, use:\n",
      "  %reload_ext autoreload\n",
      "2018-06-10 13:07:48,648:space_invaders:INFO: Environment: SpaceInvaders-v4. There are 6 actions: ['NOOP', 'FIRE', 'RIGHT', 'LEFT', 'RIGHTFIRE', 'LEFTFIRE']\n",
      "__________________________________________________________________________________________________\n",
      "Layer (type)                    Output Shape         Param #     Connected to                     \n",
      "==================================================================================================\n",
      "conv2d_7_input (InputLayer)     (None, 84, 84, 3)    0                                            \n",
      "__________________________________________________________________________________________________\n",
      "conv2d_7 (Conv2D)               (None, 20, 20, 32)   6176        conv2d_7_input[0][0]             \n",
      "__________________________________________________________________________________________________\n",
      "activation_7 (Activation)       (None, 20, 20, 32)   0           conv2d_7[0][0]                   \n",
      "__________________________________________________________________________________________________\n",
      "conv2d_8 (Conv2D)               (None, 9, 9, 64)     32832       activation_7[0][0]               \n",
      "__________________________________________________________________________________________________\n",
      "activation_8 (Activation)       (None, 9, 9, 64)     0           conv2d_8[0][0]                   \n",
      "__________________________________________________________________________________________________\n",
      "conv2d_9 (Conv2D)               (None, 7, 7, 64)     36928       activation_8[0][0]               \n",
      "__________________________________________________________________________________________________\n",
      "activation_9 (Activation)       (None, 7, 7, 64)     0           conv2d_9[0][0]                   \n",
      "__________________________________________________________________________________________________\n",
      "flatten_3 (Flatten)             (None, 3136)         0           activation_9[0][0]               \n",
      "__________________________________________________________________________________________________\n",
      "dense_9 (Dense)                 (None, 512)          1606144     flatten_3[0][0]                  \n",
      "__________________________________________________________________________________________________\n",
      "dense_11 (Dense)                (None, 512)          1606144     flatten_3[0][0]                  \n",
      "__________________________________________________________________________________________________\n",
      "dense_10 (Dense)                (None, 6)            3078        dense_9[0][0]                    \n",
      "__________________________________________________________________________________________________\n",
      "dense_12 (Dense)                (None, 1)            513         dense_11[0][0]                   \n",
      "__________________________________________________________________________________________________\n",
      "lambda_3 (Lambda)               (None, 6)            0           dense_10[0][0]                   \n",
      "                                                                 dense_12[0][0]                   \n",
      "==================================================================================================\n",
      "Total params: 3,291,815\n",
      "Trainable params: 3,291,815\n",
      "Non-trainable params: 0\n",
      "__________________________________________________________________________________________________\n",
      "None\n",
      "Successfully constructed networks.\n"
     ]
    }
   ],
   "source": [
    "%load_ext autoreload\n",
    "%autoreload 2\n",
    "from space_invaders import SpaceInvader\n",
    "\n",
    "game = SpaceInvader(max_memory = 10000, num_episodes = 10,target_update_freq = 1000,\n",
    "                    min_steps_train = 500, epsilon = .75, eps_decay_rate=.9,\n",
    "                    model_save_freq = 200, model_train_freq = 200)\n",
    "\n",
    "# game.load_network(\"./saved_models/spaceinvader_ep1000_DQN_2.h5\")"
   ]
  },
  {
   "cell_type": "code",
   "execution_count": 18,
   "metadata": {},
   "outputs": [
    {
     "name": "stdout",
     "output_type": "stream",
     "text": [
      "2018-06-10 13:07:59,235:space_invaders:INFO: Episode 1/10 finished. Reward: 90.00, Frame # 726.\n",
      "2018-06-10 13:08:02,512:space_invaders:INFO: Episode 2/10 finished. Reward: 50.00, Frame # 1360.\n",
      "2018-06-10 13:08:04,779:space_invaders:INFO: Model trained, frame: 1798\n",
      "2018-06-10 13:08:05,831:space_invaders:INFO: Loss/Metrics on fit: {'loss': 0.23307303, 'mean_absolute_error': 1.3518656, 'mean_q': 0.04176217}\n",
      "2018-06-10 13:08:09,030:space_invaders:INFO: Model trained, frame: 2398\n",
      "2018-06-10 13:08:09,367:space_invaders:INFO: Loss/Metrics on fit: {'loss': 27.909859, 'mean_absolute_error': 40.016346, 'mean_q': 61.475376}\n",
      "2018-06-10 13:08:11,879:space_invaders:INFO: Episode 3/10 finished. Reward: 185.00, Frame # 2878.\n",
      "2018-06-10 13:08:12,523:space_invaders:INFO: Model trained, frame: 2998\n",
      "2018-06-10 13:08:12,852:space_invaders:INFO: Loss/Metrics on fit: {'loss': 0.10987302, 'mean_absolute_error': 1.0584736, 'mean_q': 1.7939814}\n",
      "2018-06-10 13:08:12,868:space_invaders:INFO: Target updated, frame: 2998\n",
      "2018-06-10 13:08:15,666:space_invaders:INFO: Episode 4/10 finished. Reward: 80.00, Frame # 3533.\n",
      "2018-06-10 13:08:16,026:space_invaders:INFO: Model trained, frame: 3599\n",
      "2018-06-10 13:08:16,363:space_invaders:INFO: Loss/Metrics on fit: {'loss': 0.048286542, 'mean_absolute_error': 0.3042798, 'mean_q': 0.15328807}\n",
      "2018-06-10 13:08:19,582:space_invaders:INFO: Episode 5/10 finished. Reward: 25.00, Frame # 4174.\n",
      "2018-06-10 13:08:19,729:space_invaders:INFO: Model trained, frame: 4198\n",
      "2018-06-10 13:08:20,062:space_invaders:INFO: Loss/Metrics on fit: {'loss': 0.086948946, 'mean_absolute_error': 0.49571857, 'mean_q': 0.0036647585}\n",
      "2018-06-10 13:08:23,197:space_invaders:INFO: Model trained, frame: 4798\n",
      "2018-06-10 13:08:23,536:space_invaders:INFO: Loss/Metrics on fit: {'loss': 0.044390205, 'mean_absolute_error': 0.3290702, 'mean_q': 0.0334095}\n",
      "2018-06-10 13:08:24,603:space_invaders:INFO: Episode 6/10 finished. Reward: 90.00, Frame # 4990.\n",
      "2018-06-10 13:08:26,886:space_invaders:INFO: Model trained, frame: 5398\n",
      "2018-06-10 13:08:27,223:space_invaders:INFO: Loss/Metrics on fit: {'loss': 0.13568531, 'mean_absolute_error': 0.87932146, 'mean_q': 0.30047742}\n",
      "2018-06-10 13:08:29,466:space_invaders:INFO: Episode 7/10 finished. Reward: 90.00, Frame # 5800.\n",
      "2018-06-10 13:08:30,838:space_invaders:INFO: Model trained, frame: 5998\n",
      "2018-06-10 13:08:31,280:space_invaders:INFO: Loss/Metrics on fit: {'loss': 0.13873522, 'mean_absolute_error': 0.9497498, 'mean_q': 0.062319927}\n",
      "2018-06-10 13:08:31,294:space_invaders:INFO: Target updated, frame: 5998\n",
      "2018-06-10 13:08:34,639:space_invaders:INFO: Model trained, frame: 6598\n",
      "2018-06-10 13:08:34,995:space_invaders:INFO: Loss/Metrics on fit: {'loss': 0.21759, 'mean_absolute_error': 0.9398295, 'mean_q': 0.12190628}\n",
      "2018-06-10 13:08:35,185:space_invaders:INFO: Episode 8/10 finished. Reward: 125.00, Frame # 6630.\n",
      "2018-06-10 13:08:38,404:space_invaders:INFO: Model trained, frame: 7197\n",
      "2018-06-10 13:08:38,771:space_invaders:INFO: Loss/Metrics on fit: {'loss': 0.138286, 'mean_absolute_error': 0.9049925, 'mean_q': 0.25744623}\n",
      "2018-06-10 13:08:39,170:space_invaders:INFO: Episode 9/10 finished. Reward: 75.00, Frame # 7266.\n",
      "2018-06-10 13:08:42,093:space_invaders:INFO: Model trained, frame: 7797\n",
      "2018-06-10 13:08:42,584:space_invaders:INFO: Loss/Metrics on fit: {'loss': 0.21157965, 'mean_absolute_error': 1.2716681, 'mean_q': 0.13140817}\n",
      "2018-06-10 13:08:43,384:space_invaders:INFO: Episode 10/10 finished. Reward: 45.00, Frame # 7928.\n",
      "2018-06-10 13:08:43,385:space_invaders:INFO: Frame # 7928. End of Training.\n",
      "2018-06-10 13:08:43,386:space_invaders:INFO: Saving Network, frame: 7928, ep: 10\n",
      "Successfully saved network.\n",
      "2018-06-10 13:08:43,699:space_invaders:INFO: Plot was saved.\n"
     ]
    }
   ],
   "source": [
    "game.main()"
   ]
  },
  {
   "cell_type": "code",
   "execution_count": 20,
   "metadata": {},
   "outputs": [
    {
     "name": "stdout",
     "output_type": "stream",
     "text": [
      "Lived for 681 frames, total reward was 0.0\n"
     ]
    }
   ],
   "source": [
    "game.simulate_()"
   ]
  },
  {
   "cell_type": "code",
   "execution_count": 35,
   "metadata": {},
   "outputs": [],
   "source": [
    "import matplotlib.pyplot as plt\n",
    "import numpy as np\n",
    "with open(\"/home/mholub/q_vals.txt\", \"r\") as f:\n",
    "    q_vals = []\n",
    "    for line in f:\n",
    "        q_vals.append(float(line.rstrip()))\n",
    "plt.close()\n",
    "plt.plot(q_vals)\n",
    "plt.savefig(\"/home/mholub/q_vals.png\")"
   ]
  },
  {
   "cell_type": "code",
   "execution_count": 17,
   "metadata": {},
   "outputs": [
    {
     "data": {
      "text/plain": [
       "[<matplotlib.lines.Line2D at 0x7f4c0dfd9160>]"
      ]
     },
     "execution_count": 17,
     "metadata": {},
     "output_type": "execute_result"
    },
    {
     "data": {
      "image/png": "[encoded data removed]",
      "text/plain": [
       "<Figure size 432x288 with 1 Axes>"
      ]
     },
     "metadata": {},
     "output_type": "display_data"
    }
   ],
   "source": [
    "plt.plot(q_vals)"
   ]
  },
  {
   "cell_type": "code",
   "execution_count": 7,
   "metadata": {},
   "outputs": [],
   "source": [
    "game.plot_()"
   ]
  },
  {
   "cell_type": "code",
   "execution_count": 6,
   "metadata": {},
   "outputs": [
    {
     "name": "stdout",
     "output_type": "stream",
     "text": [
      "Lived for 667 frames, total reward was 0.0\n"
     ]
    }
   ],
   "source": [
    "game.simulate_()"
   ]
  }
 ],
 "metadata": {
  "kernelspec": {
   "display_name": "Python 3",
   "language": "python",
   "name": "python3"
  },
  "language_info": {
   "codemirror_mode": {
    "name": "ipython",
    "version": 3
   },
   "file_extension": ".py",
   "mimetype": "text/x-python",
   "name": "python",
   "nbconvert_exporter": "python",
   "pygments_lexer": "ipython3",
   "version": "3.6.5"
  }
 },
 "nbformat": 4,
 "nbformat_minor": 2
}
