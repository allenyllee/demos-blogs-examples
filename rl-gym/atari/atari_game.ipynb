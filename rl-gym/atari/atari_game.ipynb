{
 "cells": [
  {
   "cell_type": "markdown",
   "metadata": {},
   "source": [
    "# Deep Convolutional Q-Learning Network\n",
    "\n",
    "**TODO**: introduction"
   ]
  },
  {
   "cell_type": "code",
   "execution_count": 1,
   "metadata": {},
   "outputs": [
    {
     "data": {
      "text/plain": [
       "'0.10.5'"
      ]
     },
     "execution_count": 1,
     "metadata": {},
     "output_type": "execute_result"
    }
   ],
   "source": [
    "%load_ext autoreload\n",
    "%autoreload 2\n",
    "import matplotlib.pyplot as plt\n",
    "import matplotlib.animation as animation\n",
    "import gym\n",
    "import gym.spaces\n",
    "\n",
    "# plt.style.use('ggplot') # use \"ggplot\" style for graphs\n",
    "pltparams = {'legend.fontsize':14,'axes.labelsize':18,'axes.titlesize':18,\n",
    "             'xtick.labelsize':12,'ytick.labelsize':12,'figure.figsize':(7.5,7.5),}\n",
    "plt.rcParams.update(pltparams)\n",
    "%matplotlib nbagg\n",
    "\n",
    "gym.logger.set_level(40)\n",
    "gym.__version__"
   ]
  },
  {
   "cell_type": "code",
   "execution_count": 2,
   "metadata": {},
   "outputs": [
    {
     "name": "stderr",
     "output_type": "stream",
     "text": [
      "/home/mholub/miniconda3/envs/dl36/lib/python3.6/site-packages/h5py/__init__.py:36: FutureWarning: Conversion of the second argument of issubdtype from `float` to `np.floating` is deprecated. In future, it will be treated as `np.float64 == np.dtype(float).type`.\n",
      "  from ._conv import register_converters as _register_converters\n",
      "Using TensorFlow backend.\n"
     ]
    },
    {
     "name": "stdout",
     "output_type": "stream",
     "text": [
      "Tensorflow version: 1.8.0\n",
      "Keras version: 2.1.5\n",
      "Keras config: \n",
      "\n"
     ]
    },
    {
     "data": {
      "text/plain": [
       "{'floatx': 'float32',\n",
       " 'epsilon': 1e-07,\n",
       " 'backend': 'tensorflow',\n",
       " 'image_data_format': 'channels_last'}"
      ]
     },
     "execution_count": 2,
     "metadata": {},
     "output_type": "execute_result"
    }
   ],
   "source": [
    "from keras import __version__ as K_ver\n",
    "from keras.backend import _config as K_cf\n",
    "from tensorflow import __version__ as tf_ver\n",
    "print(\"Tensorflow version: {}\".format(tf_ver))\n",
    "print(\"Keras version: {}\".format(K_ver))\n",
    "print(\"Keras config: \\n\")\n",
    "K_cf"
   ]
  },
  {
   "cell_type": "code",
   "execution_count": 4,
   "metadata": {},
   "outputs": [
    {
     "name": "stdout",
     "output_type": "stream",
     "text": [
      "The autoreload extension is already loaded. To reload it, use:\n",
      "  %reload_ext autoreload\n",
      "2018-06-17 15:47:19,190:atari_game:INFO: Environment: BreakoutDeterministic-v4. There are 4 actions: ['NOOP', 'FIRE', 'RIGHT', 'LEFT']. Frameskip: 4\n",
      "__________________________________________________________________________________________________\n",
      "Layer (type)                    Output Shape         Param #     Connected to                     \n",
      "==================================================================================================\n",
      "conv2d_7_input (InputLayer)     (None, 84, 84, 3)    0                                            \n",
      "__________________________________________________________________________________________________\n",
      "conv2d_7 (Conv2D)               (None, 20, 20, 32)   6176        conv2d_7_input[0][0]             \n",
      "__________________________________________________________________________________________________\n",
      "activation_7 (Activation)       (None, 20, 20, 32)   0           conv2d_7[0][0]                   \n",
      "__________________________________________________________________________________________________\n",
      "conv2d_8 (Conv2D)               (None, 9, 9, 64)     32832       activation_7[0][0]               \n",
      "__________________________________________________________________________________________________\n",
      "activation_8 (Activation)       (None, 9, 9, 64)     0           conv2d_8[0][0]                   \n",
      "__________________________________________________________________________________________________\n",
      "conv2d_9 (Conv2D)               (None, 7, 7, 64)     36928       activation_8[0][0]               \n",
      "__________________________________________________________________________________________________\n",
      "activation_9 (Activation)       (None, 7, 7, 64)     0           conv2d_9[0][0]                   \n",
      "__________________________________________________________________________________________________\n",
      "flatten_3 (Flatten)             (None, 3136)         0           activation_9[0][0]               \n",
      "__________________________________________________________________________________________________\n",
      "dense_9 (Dense)                 (None, 512)          1606144     flatten_3[0][0]                  \n",
      "__________________________________________________________________________________________________\n",
      "dense_11 (Dense)                (None, 512)          1606144     flatten_3[0][0]                  \n",
      "__________________________________________________________________________________________________\n",
      "dense_10 (Dense)                (None, 4)            2052        dense_9[0][0]                    \n",
      "__________________________________________________________________________________________________\n",
      "dense_12 (Dense)                (None, 1)            513         dense_11[0][0]                   \n",
      "__________________________________________________________________________________________________\n",
      "lambda_3 (Lambda)               (None, 4)            0           dense_10[0][0]                   \n",
      "                                                                 dense_12[0][0]                   \n",
      "==================================================================================================\n",
      "Total params: 3,290,789\n",
      "Trainable params: 3,290,789\n",
      "Non-trainable params: 0\n",
      "__________________________________________________________________________________________________\n",
      "None\n",
      "Successfully constructed networks.\n"
     ]
    }
   ],
   "source": [
    "%load_ext autoreload\n",
    "%autoreload 2\n",
    "from atari_game import AtariGame\n",
    "\n",
    "game = AtariGame(env_id = \"BreakoutDeterministic-v4\", num_kept_frames = 3, img_size = (84, 84))\n",
    "#                  num_episodes = 11 ,target_update_freq = 100,\n",
    "#                  min_steps_train = 500, epsilon = .75, max_steps = 2000,\n",
    "#                  model_save_freq = 200, model_train_freq = 10, max_frames = 10000)"
   ]
  },
  {
   "cell_type": "code",
   "execution_count": 5,
   "metadata": {},
   "outputs": [
    {
     "name": "stdout",
     "output_type": "stream",
     "text": [
      "Succesfully loaded network.\n"
     ]
    }
   ],
   "source": [
    "game.load_network(\"./server_results/breakout_atari2_001/spaceinvader_ep2871.h5\")"
   ]
  },
  {
   "cell_type": "code",
   "execution_count": 2,
   "metadata": {},
   "outputs": [
    {
     "name": "stdout",
     "output_type": "stream",
     "text": [
      "2018-06-15 20:41:09,741:atari_game:INFO: Episode 1/11 finished. Reward: -47.00, Frame # 262.\n",
      "2018-06-15 20:41:10,787:atari_game:INFO: Episode 2/11 finished. Reward: -48.00, Frame # 487.\n",
      "2018-06-15 20:41:11,850:atari_game:INFO: Episode 3/11 finished. Reward: -47.00, Frame # 699.\n",
      "2018-06-15 20:41:12,778:atari_game:INFO: Episode 4/11 finished. Reward: -48.00, Frame # 899.\n",
      "2018-06-15 20:41:13,857:atari_game:INFO: Episode 5/11 finished. Reward: -47.00, Frame # 1132.\n",
      "2018-06-15 20:41:14,586:atari_game:INFO: Episode 6/11 finished. Reward: -49.00, Frame # 1285.\n",
      "2018-06-15 20:41:15,284:atari_game:INFO: Episode 7/11 finished. Reward: -49.00, Frame # 1435.\n",
      "2018-06-15 20:41:15,983:atari_game:INFO: Episode 8/11 finished. Reward: -49.00, Frame # 1585.\n",
      "2018-06-15 20:41:16,915:atari_game:INFO: Episode 9/11 finished. Reward: -48.00, Frame # 1782.\n",
      "2018-06-15 20:41:18,987:atari_game:INFO: Episode 10/11 finished. Reward: -47.00, Frame # 2035.\n",
      "2018-06-15 20:41:35,860:atari_game:INFO: Episode 11/11 finished. Reward: -48.00, Frame # 3528.\n",
      "2018-06-15 20:41:35,861:atari_game:INFO: Frame # 3528. End of Training.\n",
      "2018-06-15 20:41:35,861:atari_game:INFO: Saving Network, frame: 3528, ep: 11\n",
      "Successfully saved network.\n"
     ]
    }
   ],
   "source": [
    "game.main()"
   ]
  },
  {
   "cell_type": "code",
   "execution_count": 33,
   "metadata": {},
   "outputs": [
    {
     "name": "stdout",
     "output_type": "stream",
     "text": [
      "2018-06-15 17:43:30,700:atari_game:INFO: Plot of Rewards was saved.\n",
      "2018-06-15 17:43:30,772:atari_game:INFO: Plot of Losses was saved.\n",
      "2018-06-15 17:43:30,860:atari_game:INFO: Plot of Episode Lengths was saved.\n"
     ]
    }
   ],
   "source": [
    "game.plot_()"
   ]
  },
  {
   "cell_type": "code",
   "execution_count": 6,
   "metadata": {},
   "outputs": [
    {
     "name": "stdout",
     "output_type": "stream",
     "text": [
      "Lived for 319 frames, total reward was 2.0\n"
     ]
    }
   ],
   "source": [
    "game.simulate_()"
   ]
  },
  {
   "cell_type": "code",
   "execution_count": 35,
   "metadata": {},
   "outputs": [],
   "source": [
    "import matplotlib.pyplot as plt\n",
    "import numpy as np\n",
    "with open(\"/home/mholub/q_vals.txt\", \"r\") as f:\n",
    "    q_vals = []\n",
    "    for line in f:\n",
    "        q_vals.append(float(line.rstrip()))\n",
    "plt.close()\n",
    "plt.plot(q_vals)\n",
    "plt.savefig(\"/home/mholub/q_vals.png\")"
   ]
  },
  {
   "cell_type": "code",
   "execution_count": 2,
   "metadata": {},
   "outputs": [
    {
     "data": {
      "text/plain": [
       "0.9997697679981565"
      ]
     },
     "execution_count": 2,
     "metadata": {},
     "output_type": "execute_result"
    }
   ],
   "source": [
    "import numpy as np\n",
    "np.power(0.1, 1/10000)"
   ]
  }
 ],
 "metadata": {
  "kernelspec": {
   "display_name": "Python 3",
   "language": "python",
   "name": "python3"
  },
  "language_info": {
   "codemirror_mode": {
    "name": "ipython",
    "version": 3
   },
   "file_extension": ".py",
   "mimetype": "text/x-python",
   "name": "python",
   "nbconvert_exporter": "python",
   "pygments_lexer": "ipython3",
   "version": "3.6.5"
  }
 },
 "nbformat": 4,
 "nbformat_minor": 2
}
